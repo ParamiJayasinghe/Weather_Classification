{
  "nbformat": 4,
  "nbformat_minor": 0,
  "metadata": {
    "colab": {
      "provenance": [],
      "gpuType": "T4"
    },
    "kernelspec": {
      "name": "python3",
      "display_name": "Python 3"
    },
    "language_info": {
      "name": "python"
    },
    "accelerator": "GPU"
  },
  "cells": [
    {
      "cell_type": "markdown",
      "source": [
        "# Importing Libraries"
      ],
      "metadata": {
        "id": "QikvPFE4p3LC"
      }
    },
    {
      "cell_type": "code",
      "source": [
        "import pandas as pd\n",
        "import numpy as np\n",
        "from sklearn.preprocessing import LabelEncoder, StandardScaler\n",
        "from imblearn.over_sampling import SMOTE\n",
        "from sklearn.model_selection import train_test_split\n",
        "from tensorflow.keras.models import Sequential\n",
        "from tensorflow.keras.layers import Dense, Dropout, BatchNormalization\n",
        "from tensorflow.keras.regularizers import l2\n",
        "from tensorflow.keras.optimizers import Adam\n",
        "from tensorflow.keras.callbacks import LearningRateScheduler, EarlyStopping\n",
        "import matplotlib.pyplot as plt\n",
        "from sklearn.preprocessing import StandardScaler, LabelEncoder"
      ],
      "metadata": {
        "id": "R-67ZG_2mWLt"
      },
      "execution_count": 19,
      "outputs": []
    },
    {
      "cell_type": "markdown",
      "source": [
        "# Loading Dataset"
      ],
      "metadata": {
        "id": "IKl0N7Egu0sC"
      }
    },
    {
      "cell_type": "code",
      "source": [
        "# Load the dataset\n",
        "data = pd.read_csv('daily_data.csv')\n",
        "\n",
        "# Display the first few rows\n",
        "print(data.head())"
      ],
      "metadata": {
        "colab": {
          "base_uri": "https://localhost:8080/"
        },
        "collapsed": true,
        "id": "iNbb0g9cvPWF",
        "outputId": "322951c1-6997-48d7-9c83-03331be0e285"
      },
      "execution_count": 20,
      "outputs": [
        {
          "output_type": "stream",
          "name": "stdout",
          "text": [
            "  day_id city_id  temperature_celsius           condition_text  wind_kph  \\\n",
            "0  D0001    C001                 27.0                      NaN       6.1   \n",
            "1  D0002    C001                 22.0                      NaN       6.1   \n",
            "2  D0003    C001                 20.0  Light Rain with Thunder       3.6   \n",
            "3  D0004    C001                 17.0          Clear and Sunny       6.1   \n",
            "4  D0005    C001                 18.0                      NaN       3.6   \n",
            "\n",
            "   wind_degree  pressure_mb  precip_mm  humidity  cloud  feels_like_celsius  \\\n",
            "0          210       1006.0        0.0        54     75                28.0   \n",
            "1          170       1006.0        0.0        73     75                24.5   \n",
            "2           10       1011.0        4.5       100     75                20.0   \n",
            "3          150       1018.0        0.0        88      0                17.0   \n",
            "4           92       1019.0        0.0        94      0                18.0   \n",
            "\n",
            "   visibility_km  uv_index  gust_kph  air_quality_us-epa-index   sunrise  \\\n",
            "0           10.0       6.0      11.9                         2  06:04 AM   \n",
            "1           10.0       1.0      23.4                         1  06:05 AM   \n",
            "2           10.0       1.0      12.6                         1  06:05 AM   \n",
            "3           10.0       1.0      11.2                         1  06:06 AM   \n",
            "4           10.0       1.0       9.0                         1  06:07 AM   \n",
            "\n",
            "     sunset  \n",
            "0  07:19 PM  \n",
            "1  07:18 PM  \n",
            "2  07:18 PM  \n",
            "3  07:16 PM  \n",
            "4  07:15 PM  \n"
          ]
        }
      ]
    },
    {
      "cell_type": "markdown",
      "source": [
        "# Data Preprocessing"
      ],
      "metadata": {
        "id": "7A2zFmhoqFlB"
      }
    },
    {
      "cell_type": "code",
      "source": [
        "# Drop rows with missing condition_text\n",
        "data = data.dropna(subset=['condition_text'])\n",
        "\n",
        "# Display the shape of the data to see how many rows we have now\n",
        "print(data.shape)"
      ],
      "metadata": {
        "colab": {
          "base_uri": "https://localhost:8080/"
        },
        "collapsed": true,
        "id": "b6JDKeHGvXWo",
        "outputId": "45d4c2df-0cbf-4543-b25f-d98bd7355dd0"
      },
      "execution_count": 21,
      "outputs": [
        {
          "output_type": "stream",
          "name": "stdout",
          "text": [
            "(479, 17)\n"
          ]
        }
      ]
    },
    {
      "cell_type": "code",
      "source": [
        "# Initialize the LabelEncoder\n",
        "label_encoder = LabelEncoder()\n",
        "\n",
        "# Encode the condition_text column\n",
        "data['condition_text'] = label_encoder.fit_transform(data['condition_text'])\n",
        "\n",
        "# Display the unique classes and their corresponding numerical labels\n",
        "label_classes = list(label_encoder.classes_)\n",
        "print(\"Classes:\", label_classes)"
      ],
      "metadata": {
        "colab": {
          "base_uri": "https://localhost:8080/"
        },
        "collapsed": true,
        "id": "eajhQsSdvhHw",
        "outputId": "2bd0325b-cac9-49ad-9f6a-a88050563a6b"
      },
      "execution_count": 22,
      "outputs": [
        {
          "output_type": "stream",
          "name": "stdout",
          "text": [
            "Classes: ['Clear and Sunny', 'Cloudy and Overcast', 'Light Precipitation', 'Light Rain with Thunder', 'Mist or Fog', 'Moderate to Heavy Rain', 'Partly Cloudy', 'Rain Showers', 'Thunderstorms']\n"
          ]
        }
      ]
    },
    {
      "cell_type": "code",
      "source": [
        "# List of numerical columns to normalize\n",
        "numerical_cols = ['temperature_celsius', 'wind_kph', 'wind_degree', 'pressure_mb', 'precip_mm', 'humidity',\n",
        "                  'cloud', 'feels_like_celsius', 'visibility_km', 'uv_index', 'gust_kph', 'air_quality_us-epa-index']\n",
        "\n",
        "# Initialize the StandardScaler\n",
        "scaler = StandardScaler()\n",
        "\n",
        "# Fit and transform the numerical columns\n",
        "data[numerical_cols] = scaler.fit_transform(data[numerical_cols])\n",
        "\n",
        "# Display the first few rows to see the changes\n",
        "print(data.head())"
      ],
      "metadata": {
        "colab": {
          "base_uri": "https://localhost:8080/"
        },
        "collapsed": true,
        "id": "-1nkmZbDvjQ4",
        "outputId": "488c070f-fa20-4559-910d-29af04d5978b"
      },
      "execution_count": 23,
      "outputs": [
        {
          "output_type": "stream",
          "name": "stdout",
          "text": [
            "   day_id city_id  temperature_celsius  condition_text  wind_kph  wind_degree  \\\n",
            "2   D0003    C001            -0.325687               3 -0.976376    -1.491115   \n",
            "3   D0004    C001            -0.791186               0 -0.634911    -0.084787   \n",
            "6   D0007    C001            -0.170521               6 -0.921742     1.522446   \n",
            "18  D0019    C001            -0.480854               0 -0.976376    -0.948674   \n",
            "27  D0028    C002            -0.480854               6 -0.976376    -0.757815   \n",
            "\n",
            "    pressure_mb  precip_mm  humidity     cloud  feels_like_celsius  \\\n",
            "2     -0.345813   3.808121  1.160612  0.802314           -0.442245   \n",
            "3      0.802218  -0.246614  0.506188 -1.269057           -0.791270   \n",
            "6      0.310205  -0.246614  1.160612  0.111857           -0.325903   \n",
            "18     0.638214  -0.246614  0.506188 -1.269057           -0.558586   \n",
            "27    -0.509818  -0.246614 -0.311842 -0.578600           -0.558586   \n",
            "\n",
            "    visibility_km  uv_index  gust_kph  air_quality_us-epa-index   sunrise  \\\n",
            "2        0.187573 -0.560011 -0.466108                 -0.562029  06:05 AM   \n",
            "3        0.187573 -0.560011 -0.594301                 -0.562029  06:06 AM   \n",
            "6        0.187573 -0.560011 -0.237193                  0.281896  06:08 AM   \n",
            "18       0.187573 -0.560011 -0.859843                  1.125820  06:20 AM   \n",
            "27       0.187573 -0.560011 -0.859843                 -0.562029  06:17 AM   \n",
            "\n",
            "      sunset  \n",
            "2   07:18 PM  \n",
            "3   07:16 PM  \n",
            "6   07:11 PM  \n",
            "18  06:51 PM  \n",
            "27  07:20 PM  \n"
          ]
        }
      ]
    },
    {
      "cell_type": "code",
      "source": [
        "# Features (all columns except day_id, city_id, and condition_text)\n",
        "X = data.drop(columns=['day_id', 'city_id', 'condition_text', 'sunrise', 'sunset'])\n",
        "\n",
        "# Target variable\n",
        "y = data['condition_text']\n",
        "\n",
        "# Display the shapes of X and y\n",
        "X.shape, y.shape"
      ],
      "metadata": {
        "colab": {
          "base_uri": "https://localhost:8080/"
        },
        "collapsed": true,
        "id": "Y4KlV8euvm14",
        "outputId": "cc61dbd1-02da-4206-9b6b-3fec6af8e3ca"
      },
      "execution_count": 24,
      "outputs": [
        {
          "output_type": "execute_result",
          "data": {
            "text/plain": [
              "((479, 12), (479,))"
            ]
          },
          "metadata": {},
          "execution_count": 24
        }
      ]
    },
    {
      "cell_type": "code",
      "source": [
        "# Features (all columns except day_id, city_id, and condition_text)\n",
        "X = data.drop(columns=['day_id', 'city_id', 'condition_text', 'sunrise', 'sunset'])\n",
        "\n",
        "# Target variable\n",
        "y = data['condition_text']\n",
        "\n",
        "# Display the shapes of X and y\n",
        "print(X.shape, y.shape)"
      ],
      "metadata": {
        "colab": {
          "base_uri": "https://localhost:8080/"
        },
        "id": "oq_tC-zAoNUz",
        "outputId": "78d4f321-b2de-4ac1-e337-ee627f4b9978"
      },
      "execution_count": 25,
      "outputs": [
        {
          "output_type": "stream",
          "name": "stdout",
          "text": [
            "(479, 12) (479,)\n"
          ]
        }
      ]
    },
    {
      "cell_type": "code",
      "source": [
        "# Apply SMOTE to balance the dataset\n",
        "smote = SMOTE()\n",
        "X_resampled, y_resampled = smote.fit_resample(X, y)"
      ],
      "metadata": {
        "id": "OAkrTg_doRFy"
      },
      "execution_count": 26,
      "outputs": []
    },
    {
      "cell_type": "code",
      "source": [
        "# Split data into training and validation sets\n",
        "X_train, X_val, y_train, y_val = train_test_split(X_resampled, y_resampled, test_size=0.3, random_state=42)\n",
        "# Display the shapes of the resampled and split data\n",
        "print(X_train.shape, X_val.shape, y_train.shape, y_val.shape)"
      ],
      "metadata": {
        "colab": {
          "base_uri": "https://localhost:8080/"
        },
        "id": "bqQU56eXoTey",
        "outputId": "7e95b4b5-b2e6-4e25-f922-f1a926311951"
      },
      "execution_count": 27,
      "outputs": [
        {
          "output_type": "stream",
          "name": "stdout",
          "text": [
            "(768, 12) (330, 12) (768,) (330,)\n"
          ]
        }
      ]
    },
    {
      "cell_type": "markdown",
      "source": [
        "# Building the Model"
      ],
      "metadata": {
        "id": "oDa3sz2bvuag"
      }
    },
    {
      "cell_type": "code",
      "source": [
        "# Define the learning rate scheduler\n",
        "def lr_scheduler(epoch, lr):\n",
        "    if epoch > 10:\n",
        "        lr = 0.001\n",
        "    if epoch > 20:\n",
        "        lr = 0.0005\n",
        "    if epoch > 30:\n",
        "        lr = 0.0001\n",
        "    return lr\n",
        "\n",
        "# Define early stopping to prevent overfitting\n",
        "early_stopping = EarlyStopping(monitor='val_loss', patience=10, restore_best_weights=True)\n",
        "\n",
        "# Define the model\n",
        "model = Sequential()\n",
        "model.add(Dense(256, input_dim=X_train.shape[1], activation='relu', kernel_regularizer=l2(0.01)))\n",
        "model.add(BatchNormalization())\n",
        "model.add(Dense(128, activation='relu', kernel_regularizer=l2(0.01)))\n",
        "model.add(BatchNormalization())\n",
        "model.add(Dropout(0.4))\n",
        "model.add(Dense(64, activation='relu', kernel_regularizer=l2(0.01)))\n",
        "model.add(BatchNormalization())\n",
        "model.add(Dropout(0.4))\n",
        "model.add(Dense(32, activation='relu', kernel_regularizer=l2(0.01)))\n",
        "model.add(BatchNormalization())\n",
        "model.add(Dropout(0.4))\n",
        "model.add(Dense(len(label_classes), activation='softmax'))\n",
        "\n",
        "# Compile the model\n",
        "optimizer = Adam(learning_rate=0.01)\n",
        "model.compile(optimizer=optimizer, loss='sparse_categorical_crossentropy', metrics=['accuracy'])\n",
        "\n",
        "# Display the model summary\n",
        "model.summary()"
      ],
      "metadata": {
        "colab": {
          "base_uri": "https://localhost:8080/"
        },
        "collapsed": true,
        "id": "bySwUVcivvTX",
        "outputId": "e14cd23c-5b42-40eb-f790-3823613bfd2c"
      },
      "execution_count": 28,
      "outputs": [
        {
          "output_type": "stream",
          "name": "stdout",
          "text": [
            "Model: \"sequential_1\"\n",
            "_________________________________________________________________\n",
            " Layer (type)                Output Shape              Param #   \n",
            "=================================================================\n",
            " dense_5 (Dense)             (None, 256)               3328      \n",
            "                                                                 \n",
            " batch_normalization_4 (Bat  (None, 256)               1024      \n",
            " chNormalization)                                                \n",
            "                                                                 \n",
            " dense_6 (Dense)             (None, 128)               32896     \n",
            "                                                                 \n",
            " batch_normalization_5 (Bat  (None, 128)               512       \n",
            " chNormalization)                                                \n",
            "                                                                 \n",
            " dropout_3 (Dropout)         (None, 128)               0         \n",
            "                                                                 \n",
            " dense_7 (Dense)             (None, 64)                8256      \n",
            "                                                                 \n",
            " batch_normalization_6 (Bat  (None, 64)                256       \n",
            " chNormalization)                                                \n",
            "                                                                 \n",
            " dropout_4 (Dropout)         (None, 64)                0         \n",
            "                                                                 \n",
            " dense_8 (Dense)             (None, 32)                2080      \n",
            "                                                                 \n",
            " batch_normalization_7 (Bat  (None, 32)                128       \n",
            " chNormalization)                                                \n",
            "                                                                 \n",
            " dropout_5 (Dropout)         (None, 32)                0         \n",
            "                                                                 \n",
            " dense_9 (Dense)             (None, 9)                 297       \n",
            "                                                                 \n",
            "=================================================================\n",
            "Total params: 48777 (190.54 KB)\n",
            "Trainable params: 47817 (186.79 KB)\n",
            "Non-trainable params: 960 (3.75 KB)\n",
            "_________________________________________________________________\n"
          ]
        }
      ]
    },
    {
      "cell_type": "markdown",
      "source": [
        "# Training the Model"
      ],
      "metadata": {
        "id": "9MuOH4wiv3bg"
      }
    },
    {
      "cell_type": "code",
      "source": [
        "# Train the model with the learning rate scheduler and early stopping\n",
        "history = model.fit(X_train, y_train, epochs=75, batch_size=32, validation_data=(X_val, y_val), verbose=1,\n",
        "                    callbacks=[LearningRateScheduler(lr_scheduler), early_stopping])\n",
        "\n",
        "# Plot training & validation accuracy values\n",
        "plt.plot(history.history['accuracy'])\n",
        "plt.plot(history.history['val_accuracy'])\n",
        "plt.title('Model accuracy')\n",
        "plt.ylabel('Accuracy')\n",
        "plt.xlabel('Epoch')\n",
        "plt.legend(['Train', 'Validation'], loc='upper left')\n",
        "plt.show()\n",
        "\n",
        "# Plot training & validation loss values\n",
        "plt.plot(history.history['loss'])\n",
        "plt.plot(history.history['val_loss'])\n",
        "plt.title('Model loss')\n",
        "plt.ylabel('Loss')\n",
        "plt.xlabel('Epoch')\n",
        "plt.legend(['Train', 'Validation'], loc='upper left')\n",
        "plt.show()\n"
      ],
      "metadata": {
        "colab": {
          "base_uri": "https://localhost:8080/",
          "height": 1000
        },
        "collapsed": true,
        "id": "wLQ4D79gv1oo",
        "outputId": "6dfd66f7-1ceb-41c4-8c2f-e2083e46b8bb"
      },
      "execution_count": 29,
      "outputs": [
        {
          "output_type": "stream",
          "name": "stdout",
          "text": [
            "Epoch 1/75\n",
            "24/24 [==============================] - 3s 27ms/step - loss: 5.5626 - accuracy: 0.2956 - val_loss: 4.9537 - val_accuracy: 0.4394 - lr: 0.0100\n",
            "Epoch 2/75\n",
            "24/24 [==============================] - 0s 8ms/step - loss: 4.3245 - accuracy: 0.4297 - val_loss: 3.6696 - val_accuracy: 0.5333 - lr: 0.0100\n",
            "Epoch 3/75\n",
            "24/24 [==============================] - 0s 10ms/step - loss: 3.0492 - accuracy: 0.5104 - val_loss: 3.2895 - val_accuracy: 0.2455 - lr: 0.0100\n",
            "Epoch 4/75\n",
            "24/24 [==============================] - 0s 10ms/step - loss: 2.5466 - accuracy: 0.5117 - val_loss: 3.0892 - val_accuracy: 0.2061 - lr: 0.0100\n",
            "Epoch 5/75\n",
            "24/24 [==============================] - 0s 9ms/step - loss: 2.3300 - accuracy: 0.5221 - val_loss: 2.9911 - val_accuracy: 0.1909 - lr: 0.0100\n",
            "Epoch 6/75\n",
            "24/24 [==============================] - 0s 8ms/step - loss: 2.2245 - accuracy: 0.5612 - val_loss: 2.7866 - val_accuracy: 0.3182 - lr: 0.0100\n",
            "Epoch 7/75\n",
            "24/24 [==============================] - 0s 5ms/step - loss: 2.1060 - accuracy: 0.5729 - val_loss: 2.9152 - val_accuracy: 0.1636 - lr: 0.0100\n",
            "Epoch 8/75\n",
            "24/24 [==============================] - 0s 7ms/step - loss: 2.1240 - accuracy: 0.5430 - val_loss: 2.8853 - val_accuracy: 0.1758 - lr: 0.0100\n",
            "Epoch 9/75\n",
            "24/24 [==============================] - 0s 14ms/step - loss: 2.0416 - accuracy: 0.5495 - val_loss: 2.3591 - val_accuracy: 0.4636 - lr: 0.0100\n",
            "Epoch 10/75\n",
            "24/24 [==============================] - 0s 10ms/step - loss: 2.0383 - accuracy: 0.5846 - val_loss: 2.4029 - val_accuracy: 0.3758 - lr: 0.0100\n",
            "Epoch 11/75\n",
            "24/24 [==============================] - 0s 13ms/step - loss: 1.9492 - accuracy: 0.5625 - val_loss: 2.2466 - val_accuracy: 0.4515 - lr: 0.0100\n",
            "Epoch 12/75\n",
            "24/24 [==============================] - 0s 14ms/step - loss: 1.7813 - accuracy: 0.6523 - val_loss: 2.0765 - val_accuracy: 0.5697 - lr: 0.0010\n",
            "Epoch 13/75\n",
            "24/24 [==============================] - 0s 13ms/step - loss: 1.6212 - accuracy: 0.6823 - val_loss: 1.9660 - val_accuracy: 0.5970 - lr: 0.0010\n",
            "Epoch 14/75\n",
            "24/24 [==============================] - 0s 11ms/step - loss: 1.5042 - accuracy: 0.7096 - val_loss: 1.8775 - val_accuracy: 0.6242 - lr: 0.0010\n",
            "Epoch 15/75\n",
            "24/24 [==============================] - 0s 16ms/step - loss: 1.4227 - accuracy: 0.7279 - val_loss: 1.8116 - val_accuracy: 0.6030 - lr: 0.0010\n",
            "Epoch 16/75\n",
            "24/24 [==============================] - 0s 21ms/step - loss: 1.3278 - accuracy: 0.7422 - val_loss: 1.7820 - val_accuracy: 0.5667 - lr: 0.0010\n",
            "Epoch 17/75\n",
            "24/24 [==============================] - 0s 17ms/step - loss: 1.2689 - accuracy: 0.7487 - val_loss: 1.7678 - val_accuracy: 0.5576 - lr: 0.0010\n",
            "Epoch 18/75\n",
            "24/24 [==============================] - 0s 16ms/step - loss: 1.1843 - accuracy: 0.7826 - val_loss: 1.5830 - val_accuracy: 0.6152 - lr: 0.0010\n",
            "Epoch 19/75\n",
            "24/24 [==============================] - 0s 13ms/step - loss: 1.1455 - accuracy: 0.7695 - val_loss: 1.4806 - val_accuracy: 0.6758 - lr: 0.0010\n",
            "Epoch 20/75\n",
            "24/24 [==============================] - 0s 15ms/step - loss: 1.1224 - accuracy: 0.7643 - val_loss: 1.3892 - val_accuracy: 0.7273 - lr: 0.0010\n",
            "Epoch 21/75\n",
            "24/24 [==============================] - 0s 5ms/step - loss: 1.0267 - accuracy: 0.7930 - val_loss: 1.3036 - val_accuracy: 0.7394 - lr: 0.0010\n",
            "Epoch 22/75\n",
            "24/24 [==============================] - 0s 5ms/step - loss: 1.0370 - accuracy: 0.7995 - val_loss: 1.2210 - val_accuracy: 0.7758 - lr: 5.0000e-04\n",
            "Epoch 23/75\n",
            "24/24 [==============================] - 0s 5ms/step - loss: 0.9355 - accuracy: 0.8333 - val_loss: 1.1770 - val_accuracy: 0.7788 - lr: 5.0000e-04\n",
            "Epoch 24/75\n",
            "24/24 [==============================] - 0s 5ms/step - loss: 0.9246 - accuracy: 0.8203 - val_loss: 1.1339 - val_accuracy: 0.7848 - lr: 5.0000e-04\n",
            "Epoch 25/75\n",
            "24/24 [==============================] - 0s 5ms/step - loss: 0.8966 - accuracy: 0.8346 - val_loss: 1.0833 - val_accuracy: 0.7848 - lr: 5.0000e-04\n",
            "Epoch 26/75\n",
            "24/24 [==============================] - 0s 6ms/step - loss: 0.8676 - accuracy: 0.8372 - val_loss: 1.0418 - val_accuracy: 0.8152 - lr: 5.0000e-04\n",
            "Epoch 27/75\n",
            "24/24 [==============================] - 0s 8ms/step - loss: 0.8549 - accuracy: 0.8555 - val_loss: 0.9865 - val_accuracy: 0.8152 - lr: 5.0000e-04\n",
            "Epoch 28/75\n",
            "24/24 [==============================] - 0s 5ms/step - loss: 0.8505 - accuracy: 0.8438 - val_loss: 0.9484 - val_accuracy: 0.8182 - lr: 5.0000e-04\n",
            "Epoch 29/75\n",
            "24/24 [==============================] - 0s 5ms/step - loss: 0.8262 - accuracy: 0.8568 - val_loss: 0.9212 - val_accuracy: 0.8364 - lr: 5.0000e-04\n",
            "Epoch 30/75\n",
            "24/24 [==============================] - 0s 5ms/step - loss: 0.7815 - accuracy: 0.8737 - val_loss: 0.8771 - val_accuracy: 0.8303 - lr: 5.0000e-04\n",
            "Epoch 31/75\n",
            "24/24 [==============================] - 0s 5ms/step - loss: 0.8301 - accuracy: 0.8451 - val_loss: 0.8692 - val_accuracy: 0.8364 - lr: 5.0000e-04\n",
            "Epoch 32/75\n",
            "24/24 [==============================] - 0s 5ms/step - loss: 0.7252 - accuracy: 0.8854 - val_loss: 0.8472 - val_accuracy: 0.8424 - lr: 1.0000e-04\n",
            "Epoch 33/75\n",
            "24/24 [==============================] - 0s 5ms/step - loss: 0.7609 - accuracy: 0.8542 - val_loss: 0.8299 - val_accuracy: 0.8515 - lr: 1.0000e-04\n",
            "Epoch 34/75\n",
            "24/24 [==============================] - 0s 6ms/step - loss: 0.7203 - accuracy: 0.8958 - val_loss: 0.8247 - val_accuracy: 0.8455 - lr: 1.0000e-04\n",
            "Epoch 35/75\n",
            "24/24 [==============================] - 0s 6ms/step - loss: 0.7309 - accuracy: 0.8802 - val_loss: 0.8201 - val_accuracy: 0.8455 - lr: 1.0000e-04\n",
            "Epoch 36/75\n",
            "24/24 [==============================] - 0s 5ms/step - loss: 0.7130 - accuracy: 0.8776 - val_loss: 0.8177 - val_accuracy: 0.8424 - lr: 1.0000e-04\n",
            "Epoch 37/75\n",
            "24/24 [==============================] - 0s 5ms/step - loss: 0.6904 - accuracy: 0.8984 - val_loss: 0.7999 - val_accuracy: 0.8455 - lr: 1.0000e-04\n",
            "Epoch 38/75\n",
            "24/24 [==============================] - 0s 5ms/step - loss: 0.7010 - accuracy: 0.8906 - val_loss: 0.7913 - val_accuracy: 0.8455 - lr: 1.0000e-04\n",
            "Epoch 39/75\n",
            "24/24 [==============================] - 0s 5ms/step - loss: 0.7208 - accuracy: 0.8815 - val_loss: 0.7853 - val_accuracy: 0.8667 - lr: 1.0000e-04\n",
            "Epoch 40/75\n",
            "24/24 [==============================] - 0s 5ms/step - loss: 0.6959 - accuracy: 0.8893 - val_loss: 0.7875 - val_accuracy: 0.8606 - lr: 1.0000e-04\n",
            "Epoch 41/75\n",
            "24/24 [==============================] - 0s 6ms/step - loss: 0.6978 - accuracy: 0.9010 - val_loss: 0.7847 - val_accuracy: 0.8576 - lr: 1.0000e-04\n",
            "Epoch 42/75\n",
            "24/24 [==============================] - 0s 6ms/step - loss: 0.6622 - accuracy: 0.9128 - val_loss: 0.7806 - val_accuracy: 0.8636 - lr: 1.0000e-04\n",
            "Epoch 43/75\n",
            "24/24 [==============================] - 0s 5ms/step - loss: 0.6608 - accuracy: 0.9076 - val_loss: 0.7798 - val_accuracy: 0.8636 - lr: 1.0000e-04\n",
            "Epoch 44/75\n",
            "24/24 [==============================] - 0s 5ms/step - loss: 0.6566 - accuracy: 0.9036 - val_loss: 0.7756 - val_accuracy: 0.8606 - lr: 1.0000e-04\n",
            "Epoch 45/75\n",
            "24/24 [==============================] - 0s 5ms/step - loss: 0.6459 - accuracy: 0.8932 - val_loss: 0.7709 - val_accuracy: 0.8606 - lr: 1.0000e-04\n",
            "Epoch 46/75\n",
            "24/24 [==============================] - 0s 5ms/step - loss: 0.6442 - accuracy: 0.9154 - val_loss: 0.7674 - val_accuracy: 0.8636 - lr: 1.0000e-04\n",
            "Epoch 47/75\n",
            "24/24 [==============================] - 0s 5ms/step - loss: 0.6310 - accuracy: 0.9089 - val_loss: 0.7608 - val_accuracy: 0.8727 - lr: 1.0000e-04\n",
            "Epoch 48/75\n",
            "24/24 [==============================] - 0s 7ms/step - loss: 0.6509 - accuracy: 0.8945 - val_loss: 0.7518 - val_accuracy: 0.8667 - lr: 1.0000e-04\n",
            "Epoch 49/75\n",
            "24/24 [==============================] - 0s 5ms/step - loss: 0.6639 - accuracy: 0.8945 - val_loss: 0.7517 - val_accuracy: 0.8727 - lr: 1.0000e-04\n",
            "Epoch 50/75\n",
            "24/24 [==============================] - 0s 5ms/step - loss: 0.6254 - accuracy: 0.9258 - val_loss: 0.7543 - val_accuracy: 0.8727 - lr: 1.0000e-04\n",
            "Epoch 51/75\n",
            "24/24 [==============================] - 0s 5ms/step - loss: 0.6331 - accuracy: 0.9062 - val_loss: 0.7398 - val_accuracy: 0.8697 - lr: 1.0000e-04\n",
            "Epoch 52/75\n",
            "24/24 [==============================] - 0s 5ms/step - loss: 0.6131 - accuracy: 0.9167 - val_loss: 0.7382 - val_accuracy: 0.8606 - lr: 1.0000e-04\n",
            "Epoch 53/75\n",
            "24/24 [==============================] - 0s 5ms/step - loss: 0.6290 - accuracy: 0.9102 - val_loss: 0.7215 - val_accuracy: 0.8636 - lr: 1.0000e-04\n",
            "Epoch 54/75\n",
            "24/24 [==============================] - 0s 5ms/step - loss: 0.6359 - accuracy: 0.9049 - val_loss: 0.7152 - val_accuracy: 0.8606 - lr: 1.0000e-04\n",
            "Epoch 55/75\n",
            "24/24 [==============================] - 0s 5ms/step - loss: 0.5967 - accuracy: 0.9076 - val_loss: 0.7135 - val_accuracy: 0.8697 - lr: 1.0000e-04\n",
            "Epoch 56/75\n",
            "24/24 [==============================] - 0s 6ms/step - loss: 0.6120 - accuracy: 0.9089 - val_loss: 0.7138 - val_accuracy: 0.8636 - lr: 1.0000e-04\n",
            "Epoch 57/75\n",
            "24/24 [==============================] - 0s 5ms/step - loss: 0.5883 - accuracy: 0.9206 - val_loss: 0.7117 - val_accuracy: 0.8727 - lr: 1.0000e-04\n",
            "Epoch 58/75\n",
            "24/24 [==============================] - 0s 5ms/step - loss: 0.6086 - accuracy: 0.9049 - val_loss: 0.7040 - val_accuracy: 0.8788 - lr: 1.0000e-04\n",
            "Epoch 59/75\n",
            "24/24 [==============================] - 0s 5ms/step - loss: 0.5939 - accuracy: 0.9232 - val_loss: 0.7050 - val_accuracy: 0.8697 - lr: 1.0000e-04\n",
            "Epoch 60/75\n",
            "24/24 [==============================] - 0s 10ms/step - loss: 0.5863 - accuracy: 0.9245 - val_loss: 0.7136 - val_accuracy: 0.8697 - lr: 1.0000e-04\n",
            "Epoch 61/75\n",
            "24/24 [==============================] - 0s 8ms/step - loss: 0.5675 - accuracy: 0.9206 - val_loss: 0.7070 - val_accuracy: 0.8818 - lr: 1.0000e-04\n",
            "Epoch 62/75\n",
            "24/24 [==============================] - 0s 10ms/step - loss: 0.5944 - accuracy: 0.9102 - val_loss: 0.7057 - val_accuracy: 0.8727 - lr: 1.0000e-04\n",
            "Epoch 63/75\n",
            "24/24 [==============================] - 0s 9ms/step - loss: 0.5737 - accuracy: 0.9219 - val_loss: 0.7048 - val_accuracy: 0.8758 - lr: 1.0000e-04\n",
            "Epoch 64/75\n",
            "24/24 [==============================] - 0s 8ms/step - loss: 0.5507 - accuracy: 0.9297 - val_loss: 0.6964 - val_accuracy: 0.8879 - lr: 1.0000e-04\n",
            "Epoch 65/75\n",
            "24/24 [==============================] - 0s 9ms/step - loss: 0.5843 - accuracy: 0.9219 - val_loss: 0.7151 - val_accuracy: 0.8758 - lr: 1.0000e-04\n",
            "Epoch 66/75\n",
            "24/24 [==============================] - 0s 8ms/step - loss: 0.5616 - accuracy: 0.9349 - val_loss: 0.7082 - val_accuracy: 0.8667 - lr: 1.0000e-04\n",
            "Epoch 67/75\n",
            "24/24 [==============================] - 0s 8ms/step - loss: 0.5341 - accuracy: 0.9440 - val_loss: 0.7073 - val_accuracy: 0.8636 - lr: 1.0000e-04\n",
            "Epoch 68/75\n",
            "24/24 [==============================] - 0s 8ms/step - loss: 0.5273 - accuracy: 0.9440 - val_loss: 0.7089 - val_accuracy: 0.8697 - lr: 1.0000e-04\n",
            "Epoch 69/75\n",
            "24/24 [==============================] - 0s 9ms/step - loss: 0.5448 - accuracy: 0.9232 - val_loss: 0.6945 - val_accuracy: 0.8788 - lr: 1.0000e-04\n",
            "Epoch 70/75\n",
            "24/24 [==============================] - 0s 10ms/step - loss: 0.5533 - accuracy: 0.9310 - val_loss: 0.6874 - val_accuracy: 0.8788 - lr: 1.0000e-04\n",
            "Epoch 71/75\n",
            "24/24 [==============================] - 0s 11ms/step - loss: 0.5065 - accuracy: 0.9388 - val_loss: 0.6902 - val_accuracy: 0.8848 - lr: 1.0000e-04\n",
            "Epoch 72/75\n",
            "24/24 [==============================] - 0s 8ms/step - loss: 0.5074 - accuracy: 0.9427 - val_loss: 0.6888 - val_accuracy: 0.8818 - lr: 1.0000e-04\n",
            "Epoch 73/75\n",
            "24/24 [==============================] - 0s 8ms/step - loss: 0.5446 - accuracy: 0.9284 - val_loss: 0.6960 - val_accuracy: 0.8758 - lr: 1.0000e-04\n",
            "Epoch 74/75\n",
            "24/24 [==============================] - 0s 5ms/step - loss: 0.5223 - accuracy: 0.9388 - val_loss: 0.6900 - val_accuracy: 0.8848 - lr: 1.0000e-04\n",
            "Epoch 75/75\n",
            "24/24 [==============================] - 0s 5ms/step - loss: 0.5168 - accuracy: 0.9414 - val_loss: 0.6780 - val_accuracy: 0.8758 - lr: 1.0000e-04\n"
          ]
        },
        {
          "output_type": "display_data",
          "data": {
            "text/plain": [
              "<Figure size 640x480 with 1 Axes>"
            ],
            "image/png": "[encoded data removed]"
          },
          "metadata": {}
        },
        {
          "output_type": "display_data",
          "data": {
            "text/plain": [
              "<Figure size 640x480 with 1 Axes>"
            ],
            "image/png": "[encoded data removed]"
          },
          "metadata": {}
        }
      ]
    },
    {
      "cell_type": "markdown",
      "source": [
        "# Prediction and Storing them into Submission file"
      ],
      "metadata": {
        "id": "TL6F9oVkXCJG"
      }
    },
    {
      "cell_type": "code",
      "source": [
        "# Load the submission template\n",
        "submission = pd.read_csv('submission.csv')\n",
        "\n",
        "# Load the original dataset\n",
        "data = pd.read_csv('daily_data.csv')\n",
        "\n",
        "# List of numerical columns to normalize\n",
        "numerical_cols = ['temperature_celsius', 'wind_kph', 'wind_degree', 'pressure_mb', 'precip_mm', 'humidity',\n",
        "                  'cloud', 'feels_like_celsius', 'visibility_km', 'uv_index', 'gust_kph', 'air_quality_us-epa-index']\n",
        "\n",
        "# Merge the submission template with the original data to get features\n",
        "test_data = pd.merge(submission, data, on='day_id', how='left')\n",
        "\n",
        "# Drop unnecessary columns\n",
        "X_test = test_data.drop(columns=['day_id', 'condition_text_x', 'condition_text_y', 'sunrise', 'sunset'])\n",
        "\n",
        "# Normalize the test data\n",
        "scaler = StandardScaler()\n",
        "X_test[numerical_cols] = scaler.fit_transform(X_test[numerical_cols])\n",
        "\n",
        "# Handle any remaining NaN values in X_test\n",
        "X_test = X_test.fillna(0)  # Replace NaNs with 0s or any other suitable value\n",
        "\n",
        "# Drop non-numeric columns if any are left\n",
        "X_test = X_test.select_dtypes(include=[np.float32, np.float64])  # Select only numeric columns\n",
        "\n",
        "# Make sure all data is in float32 format\n",
        "X_test = X_test.astype(np.float32)\n",
        "\n",
        "# Make predictions\n",
        "predictions = model.predict(X_test)\n",
        "predicted_classes = np.argmax(predictions, axis=1)\n",
        "\n",
        "# Decode the predicted labels\n",
        "label_encoder = LabelEncoder()\n",
        "label_encoder.fit(data['condition_text'])\n",
        "predicted_labels = label_encoder.inverse_transform(predicted_classes)\n",
        "\n",
        "# Fill the submission file with predictions\n",
        "submission['condition_text'] = predicted_labels\n",
        "\n",
        "# Save the submission file\n",
        "submission.to_csv('submission.csv', index=False)\n",
        "\n",
        "print(\"Submission file created successfully!\")\n"
      ],
      "metadata": {
        "colab": {
          "base_uri": "https://localhost:8080/"
        },
        "id": "i_lFZDSFW6Cy",
        "outputId": "b44f1c85-7e3a-4560-db41-57218379b982"
      },
      "execution_count": 30,
      "outputs": [
        {
          "output_type": "stream",
          "name": "stdout",
          "text": [
            "91/91 [==============================] - 0s 2ms/step\n",
            "Submission file created successfully!\n"
          ]
        }
      ]
    }
  ]
}